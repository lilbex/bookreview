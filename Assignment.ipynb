{
  "nbformat": 4,
  "nbformat_minor": 0,
  "metadata": {
    "colab": {
      "name": "Assignment",
      "provenance": [],
      "collapsed_sections": [],
      "authorship_tag": "ABX9TyPFo0SCUini1Y+2V0g6qcnv",
      "include_colab_link": true
    },
    "kernelspec": {
      "name": "python3",
      "display_name": "Python 3"
    },
    "language_info": {
      "name": "python"
    }
  },
  "cells": [
    {
      "cell_type": "markdown",
      "metadata": {
        "id": "view-in-github",
        "colab_type": "text"
      },
      "source": [
        "<a href=\"https://colab.research.google.com/github/lilbex/bookreview/blob/master/Assignment.ipynb\" target=\"_parent\"><img src=\"https://colab.research.google.com/assets/colab-badge.svg\" alt=\"Open In Colab\"/></a>"
      ]
    },
    {
      "cell_type": "code",
      "metadata": {
        "id": "Sd4xhvcSNo5U"
      },
      "source": [
        "!pip install python-docx"
      ],
      "execution_count": null,
      "outputs": []
    },
    {
      "cell_type": "code",
      "metadata": {
        "id": "bAHACWe-Qgu7"
      },
      "source": [
        "from google.colab import files\n",
        "uploaded = files.upload()"
      ],
      "execution_count": null,
      "outputs": []
    },
    {
      "cell_type": "code",
      "metadata": {
        "id": "GE-JcpjPRd7q"
      },
      "source": [
        "# 1 Write code to extract the student ID from their names \n",
        "\n",
        "from docx import Document\n",
        "import pandas as pd\n",
        "document = Document('assignment.docx')\n",
        "table=document.tables[0] \n",
        "data = [[cell.text for cell in row.cells] for row in table.rows]\n",
        "df = pd.DataFrame(data)\n",
        "df2 = df.rename(columns=df.iloc[0]).drop(df.index[0])\n",
        "df2.columns = ['s_n','st_name', 'balance','discount']\n",
        "df2['st_name'] = df2['st_name'].str.replace(r'\\D', '')\n",
        "print(df2)"
      ],
      "execution_count": null,
      "outputs": []
    },
    {
      "cell_type": "code",
      "metadata": {
        "id": "-JvBywsYOIqi"
      },
      "source": [
        "# 2a Create a pandas dataframe from table 2\n",
        "document = Document('assignment.docx')\n",
        "table=document.tables[1] \n",
        "data = [[cell.text for cell in row.cells] for row in table.rows]\n",
        "pd.set_option('display.max_columns', None)\n",
        "df = pd.DataFrame(data)\n",
        "df = df.rename(columns=df.iloc[0]).drop(df.index[0])\n",
        "# df.head()\n",
        "print(df)"
      ],
      "execution_count": null,
      "outputs": []
    },
    {
      "cell_type": "code",
      "metadata": {
        "id": "gctif7yzgKgb"
      },
      "source": [
        "# 2b create a list of unique product using set\n",
        "pro_id=df['Product ID']\n",
        "prd=set(pro_id)\n",
        "to_list=list(prd)\n",
        "print(to_list)"
      ],
      "execution_count": null,
      "outputs": []
    },
    {
      "cell_type": "code",
      "metadata": {
        "id": "CvxXOIbSgUg7"
      },
      "source": [
        "# 2c Create a list of unique product categories using Sets and python Lists\n",
        "pro_cat=df['Product Category']\n",
        "cat=set(pro_cat)\n",
        "cat_to_list=list(cat)\n",
        "print(cat_to_list)"
      ],
      "execution_count": null,
      "outputs": []
    },
    {
      "cell_type": "code",
      "metadata": {
        "id": "-zzx-R42ggEv"
      },
      "source": [
        "# 2d Using a For Loop, obtain the total value of sales for each product\n",
        "pro_id=df['Product ID']\n",
        "product_list=list(pro_id)\n",
        "pro_price=df['Total Value']\n",
        "remove_whitespace=[pro.lstrip() for pro in pro_price]\n",
        "price_list=list(pro_price)\n",
        "# res = {}\n",
        "# res = {product_list[i]: remove_whitespace[i] for i in range(len(remove_whitespace))}\n",
        "# print(res)\n",
        "for product_list, remove_whitespace in zip(product_list, remove_whitespace):\n",
        "    print(f'{product_list} -> {remove_whitespace}')"
      ],
      "execution_count": null,
      "outputs": []
    },
    {
      "cell_type": "code",
      "metadata": {
        "id": "ebiygez5goxo"
      },
      "source": [
        "# 2e Using a For Loop, compute the total values of sales for each category\n",
        "\n",
        "prod_cat=df['Product Category']\n",
        "set_of_prod_category=list(set(df['Product Category']))\n",
        "prod_to_list=list(prod_cat)\n",
        "prod_price=df['Total Value']\n",
        "remove_whitespace=[pro.lstrip() for pro in prod_price]'"
      ],
      "execution_count": null,
      "outputs": []
    }
  ]
}